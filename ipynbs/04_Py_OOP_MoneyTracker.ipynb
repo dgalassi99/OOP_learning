{
  "nbformat": 4,
  "nbformat_minor": 0,
  "metadata": {
    "colab": {
      "provenance": [],
      "authorship_tag": "ABX9TyM7UomZwOKlx/G9apX7RuKA",
      "include_colab_link": true
    },
    "kernelspec": {
      "name": "python3",
      "display_name": "Python 3"
    },
    "language_info": {
      "name": "python"
    }
  },
  "cells": [
    {
      "cell_type": "markdown",
      "metadata": {
        "id": "view-in-github",
        "colab_type": "text"
      },
      "source": [
        "<a href=\"https://colab.research.google.com/github/dgalassi99/OOP_learning/blob/main/ipynbs/04_Py_OOP_MoneyTracker.ipynb\" target=\"_parent\"><img src=\"https://colab.research.google.com/assets/colab-badge.svg\" alt=\"Open In Colab\"/></a>"
      ]
    },
    {
      "cell_type": "markdown",
      "source": [
        "# Build a Budget and Expense Tracker"
      ],
      "metadata": {
        "id": "3fuI93hFQ11h"
      }
    },
    {
      "cell_type": "markdown",
      "source": [
        "Track income, expenses, and budgets over time. Later, analyze savings, trends, and budgeting performance. Eventually display this via a dashboard."
      ],
      "metadata": {
        "id": "3FkICZ7sQ9XM"
      }
    },
    {
      "cell_type": "markdown",
      "source": [
        "## Base Structure Implementation"
      ],
      "metadata": {
        "id": "ZMckrZ82Rx9n"
      }
    },
    {
      "cell_type": "markdown",
      "source": [
        "### Transaction - data container for each entry"
      ],
      "metadata": {
        "id": "HZ5jwmVFR14y"
      }
    },
    {
      "cell_type": "code",
      "execution_count": null,
      "metadata": {
        "id": "Yj-ctdcxQOhw"
      },
      "outputs": [],
      "source": [
        "from datetime import datetime\n",
        "\n",
        "class Transaction:\n",
        "\n",
        "  def __init__(self,date,amount,category,description=''):\n",
        "    self.amount = amount\n",
        "    self.date = datetime.strptime(date, '%d-%m-%Y')\n",
        "    self.category = category\n",
        "    self.description = description\n",
        "\n",
        "  def __repr__(self):\n",
        "    return f'Transaction(amount={self.amount}, date={self.date}, category={self.category}, description={self.description})'"
      ]
    },
    {
      "cell_type": "code",
      "source": [
        "trs = Transaction('04-05-2025',100,'food','testing the class __repr__ method')\n",
        "trs.__repr__()"
      ],
      "metadata": {
        "colab": {
          "base_uri": "https://localhost:8080/",
          "height": 54
        },
        "id": "0Exz-XSxSUk5",
        "outputId": "61cfc161-abcb-4312-a2c0-e4d6de3810af"
      },
      "execution_count": null,
      "outputs": [
        {
          "output_type": "execute_result",
          "data": {
            "text/plain": [
              "'Transaction(amount=100, date=2025-05-04 00:00:00, category=food, description=testing the class __repr__ method)'"
            ],
            "application/vnd.google.colaboratory.intrinsic+json": {
              "type": "string"
            }
          },
          "metadata": {},
          "execution_count": 7
        }
      ]
    },
    {
      "cell_type": "markdown",
      "source": [
        "### Budget - category limit"
      ],
      "metadata": {
        "id": "u09ybc7mR8ef"
      }
    },
    {
      "cell_type": "code",
      "source": [
        "class Budget:\n",
        "\n",
        "  def __init__(self,category,limit):\n",
        "    self.category = category\n",
        "    self.limit = limit\n",
        "\n",
        "  def __repr__(self):\n",
        "        return f\"{self.category} Budget: {self.limit:.2f}\""
      ],
      "metadata": {
        "id": "2FUcqjQaR-0M"
      },
      "execution_count": null,
      "outputs": []
    },
    {
      "cell_type": "code",
      "source": [
        "bg = Budget('food',100)\n",
        "bg.__repr__()"
      ],
      "metadata": {
        "colab": {
          "base_uri": "https://localhost:8080/",
          "height": 36
        },
        "id": "rEPwJq-_S6R_",
        "outputId": "c0260df9-6fe3-4e90-c786-3e6dd630c060"
      },
      "execution_count": null,
      "outputs": [
        {
          "output_type": "execute_result",
          "data": {
            "text/plain": [
              "'food Budget: 100.00'"
            ],
            "application/vnd.google.colaboratory.intrinsic+json": {
              "type": "string"
            }
          },
          "metadata": {},
          "execution_count": 9
        }
      ]
    },
    {
      "cell_type": "markdown",
      "source": [
        "### Expense Tracker - the brain of the tracker"
      ],
      "metadata": {
        "id": "hH-ZaMMZS_nq"
      }
    },
    {
      "cell_type": "code",
      "source": [
        "class Tracker:\n",
        "\n",
        "  def __init__(self):\n",
        "    self.transactions = [] #list of transaction\n",
        "    self.budgets = {} #dict of budget- category:limit\n",
        "\n",
        "#method to add a transaction\n",
        "  def add_transaction(self,transaction):\n",
        "    self.transactions.append(transaction) #add transaction to the transaction list\n",
        "\n",
        "#method to filter transaction based on category, start and end date\n",
        "  def filter_transactions(self, start_date=None, end_date=None, category=None):\n",
        "    from datetime import datetime\n",
        "    filtered = [] #create a list\n",
        "    for txn in self.transactions: #loop inside the transaction\n",
        "        txn_date = txn.date\n",
        "        if category and txn.category != category: #if not matching skip\n",
        "            continue\n",
        "        if start_date:\n",
        "            start_date_dt = datetime.strptime(start_date, '%d-%m-%Y')\n",
        "            if txn_date < start_date_dt:\n",
        "                continue\n",
        "        if end_date:\n",
        "            end_date_dt = datetime.strptime(end_date, '%d-%m-%Y')\n",
        "            if txn_date > end_date_dt:\n",
        "                continue\n",
        "        filtered.append(txn)\n",
        "    return filtered\n",
        "\n",
        "#getter to get a transaction\n",
        "  def get_transactions_log(self, start_date=None, end_date=None, category=None):\n",
        "      import pandas as pd\n",
        "    # get filtered transactions using the filter_transactions method\n",
        "      filtered = self.filter_transactions(start_date, end_date, category)\n",
        "      if not filtered:  # if no transactions, return an empty DataFrame\n",
        "        return pd.DataFrame(columns=[\"date\", \"amount\", \"category\"])\n",
        "      #create a df with the filtered transactions to have a dataframe style log\n",
        "      data = []\n",
        "      for txn in filtered:\n",
        "          data.append({'date': txn.date, 'amount': txn.amount, 'category': txn.category})\n",
        "      return pd.DataFrame(data)\n",
        "\n",
        "#method to add a budget using Budget class\n",
        "  def add_budget(self,category,limit):\n",
        "    self.budgets[category] = Budget(category,limit)\n",
        "\n",
        "#getter to get a budget\n",
        "  def get_budgets(self,category):\n",
        "    return self.budgets.get(category,None)\n",
        "\n",
        "#getter to get total by a given category\n",
        "  def get_summary(self, start_date=None, end_date=None, category=None):\n",
        "    #get filtered transactions using the filter_transactions method\n",
        "    filtered = self.filter_transactions(start_date, end_date, category)\n",
        "    #calcualte some summaties\n",
        "    income = sum(txn.amount for txn in filtered if txn.amount > 0)\n",
        "    expenses = sum(txn.amount for txn in filtered if txn.amount < 0)\n",
        "    net = income + expenses  # expenses is negative, hence added with +\n",
        "    return {'income': income, 'expenses': expenses, 'net': net}\n"
      ],
      "metadata": {
        "id": "fKcyoNQ0S81U"
      },
      "execution_count": null,
      "outputs": []
    },
    {
      "cell_type": "markdown",
      "source": [
        "### Test #1"
      ],
      "metadata": {
        "id": "nddFWy7eb8hl"
      }
    },
    {
      "cell_type": "code",
      "source": [
        "tracker = Tracker()\n",
        "\n",
        "#add a few transactions\n",
        "tracker.add_transaction(Transaction('01-04-2025',-50, 'Groceries'))\n",
        "tracker.add_transaction(Transaction('02-04-2025',-20, 'Transport'))\n",
        "tracker.add_transaction(Transaction('01-04-2025',2000, 'Salary'))\n",
        "tracker.add_transaction(Transaction('10-04-2025',-100, 'Groceries'))\n",
        "tracker.add_transaction(Transaction('15-04-2025',-30, 'Transport'))\n",
        "\n",
        "#add some budgets\n",
        "tracker.add_budget('Groceries', 300)\n",
        "tracker.add_budget('Transport', 100)\n",
        "\n",
        "#full summary\n",
        "print(\"Full Summary:\")\n",
        "print(tracker.get_summary())\n",
        "\n",
        "#summary for groceries only\n",
        "print(\"\\nGroceries Summary:\")\n",
        "print(tracker.get_summary(category='Groceries'))\n",
        "\n",
        "#summary for a date range\n",
        "print(\"\\nSummary between 2025-04-01 and 2025-04-10:\")\n",
        "print(tracker.get_summary(start_date='01-04-2025', end_date='10-04-2025'))\n",
        "\n",
        "#get all transactions\n",
        "print(\"\\nAll transactions so far\")\n",
        "tracker.get_transactions_log()"
      ],
      "metadata": {
        "colab": {
          "base_uri": "https://localhost:8080/",
          "height": 388
        },
        "id": "j7Oee-A9XqCd",
        "outputId": "ed474727-54fd-428e-a147-5f62d603bd53"
      },
      "execution_count": null,
      "outputs": [
        {
          "output_type": "stream",
          "name": "stdout",
          "text": [
            "Full Summary:\n",
            "{'income': 2000, 'expenses': -200, 'net': 1800}\n",
            "\n",
            "Groceries Summary:\n",
            "{'income': 0, 'expenses': -150, 'net': -150}\n",
            "\n",
            "Summary between 2025-04-01 and 2025-04-10:\n",
            "{'income': 2000, 'expenses': -170, 'net': 1830}\n",
            "\n",
            "All transactions so far\n"
          ]
        },
        {
          "output_type": "execute_result",
          "data": {
            "text/plain": [
              "        date  amount   category\n",
              "0 2025-04-01     -50  Groceries\n",
              "1 2025-04-02     -20  Transport\n",
              "2 2025-04-01    2000     Salary\n",
              "3 2025-04-10    -100  Groceries\n",
              "4 2025-04-15     -30  Transport"
            ],
            "text/html": [
              "\n",
              "  <div id=\"df-d3395275-57b5-4567-8f4d-8a58182a4712\" class=\"colab-df-container\">\n",
              "    <div>\n",
              "<style scoped>\n",
              "    .dataframe tbody tr th:only-of-type {\n",
              "        vertical-align: middle;\n",
              "    }\n",
              "\n",
              "    .dataframe tbody tr th {\n",
              "        vertical-align: top;\n",
              "    }\n",
              "\n",
              "    .dataframe thead th {\n",
              "        text-align: right;\n",
              "    }\n",
              "</style>\n",
              "<table border=\"1\" class=\"dataframe\">\n",
              "  <thead>\n",
              "    <tr style=\"text-align: right;\">\n",
              "      <th></th>\n",
              "      <th>date</th>\n",
              "      <th>amount</th>\n",
              "      <th>category</th>\n",
              "    </tr>\n",
              "  </thead>\n",
              "  <tbody>\n",
              "    <tr>\n",
              "      <th>0</th>\n",
              "      <td>2025-04-01</td>\n",
              "      <td>-50</td>\n",
              "      <td>Groceries</td>\n",
              "    </tr>\n",
              "    <tr>\n",
              "      <th>1</th>\n",
              "      <td>2025-04-02</td>\n",
              "      <td>-20</td>\n",
              "      <td>Transport</td>\n",
              "    </tr>\n",
              "    <tr>\n",
              "      <th>2</th>\n",
              "      <td>2025-04-01</td>\n",
              "      <td>2000</td>\n",
              "      <td>Salary</td>\n",
              "    </tr>\n",
              "    <tr>\n",
              "      <th>3</th>\n",
              "      <td>2025-04-10</td>\n",
              "      <td>-100</td>\n",
              "      <td>Groceries</td>\n",
              "    </tr>\n",
              "    <tr>\n",
              "      <th>4</th>\n",
              "      <td>2025-04-15</td>\n",
              "      <td>-30</td>\n",
              "      <td>Transport</td>\n",
              "    </tr>\n",
              "  </tbody>\n",
              "</table>\n",
              "</div>\n",
              "    <div class=\"colab-df-buttons\">\n",
              "\n",
              "  <div class=\"colab-df-container\">\n",
              "    <button class=\"colab-df-convert\" onclick=\"convertToInteractive('df-d3395275-57b5-4567-8f4d-8a58182a4712')\"\n",
              "            title=\"Convert this dataframe to an interactive table.\"\n",
              "            style=\"display:none;\">\n",
              "\n",
              "  <svg xmlns=\"http://www.w3.org/2000/svg\" height=\"24px\" viewBox=\"0 -960 960 960\">\n",
              "    <path d=\"M120-120v-720h720v720H120Zm60-500h600v-160H180v160Zm220 220h160v-160H400v160Zm0 220h160v-160H400v160ZM180-400h160v-160H180v160Zm440 0h160v-160H620v160ZM180-180h160v-160H180v160Zm440 0h160v-160H620v160Z\"/>\n",
              "  </svg>\n",
              "    </button>\n",
              "\n",
              "  <style>\n",
              "    .colab-df-container {\n",
              "      display:flex;\n",
              "      gap: 12px;\n",
              "    }\n",
              "\n",
              "    .colab-df-convert {\n",
              "      background-color: #E8F0FE;\n",
              "      border: none;\n",
              "      border-radius: 50%;\n",
              "      cursor: pointer;\n",
              "      display: none;\n",
              "      fill: #1967D2;\n",
              "      height: 32px;\n",
              "      padding: 0 0 0 0;\n",
              "      width: 32px;\n",
              "    }\n",
              "\n",
              "    .colab-df-convert:hover {\n",
              "      background-color: #E2EBFA;\n",
              "      box-shadow: 0px 1px 2px rgba(60, 64, 67, 0.3), 0px 1px 3px 1px rgba(60, 64, 67, 0.15);\n",
              "      fill: #174EA6;\n",
              "    }\n",
              "\n",
              "    .colab-df-buttons div {\n",
              "      margin-bottom: 4px;\n",
              "    }\n",
              "\n",
              "    [theme=dark] .colab-df-convert {\n",
              "      background-color: #3B4455;\n",
              "      fill: #D2E3FC;\n",
              "    }\n",
              "\n",
              "    [theme=dark] .colab-df-convert:hover {\n",
              "      background-color: #434B5C;\n",
              "      box-shadow: 0px 1px 3px 1px rgba(0, 0, 0, 0.15);\n",
              "      filter: drop-shadow(0px 1px 2px rgba(0, 0, 0, 0.3));\n",
              "      fill: #FFFFFF;\n",
              "    }\n",
              "  </style>\n",
              "\n",
              "    <script>\n",
              "      const buttonEl =\n",
              "        document.querySelector('#df-d3395275-57b5-4567-8f4d-8a58182a4712 button.colab-df-convert');\n",
              "      buttonEl.style.display =\n",
              "        google.colab.kernel.accessAllowed ? 'block' : 'none';\n",
              "\n",
              "      async function convertToInteractive(key) {\n",
              "        const element = document.querySelector('#df-d3395275-57b5-4567-8f4d-8a58182a4712');\n",
              "        const dataTable =\n",
              "          await google.colab.kernel.invokeFunction('convertToInteractive',\n",
              "                                                    [key], {});\n",
              "        if (!dataTable) return;\n",
              "\n",
              "        const docLinkHtml = 'Like what you see? Visit the ' +\n",
              "          '<a target=\"_blank\" href=https://colab.research.google.com/notebooks/data_table.ipynb>data table notebook</a>'\n",
              "          + ' to learn more about interactive tables.';\n",
              "        element.innerHTML = '';\n",
              "        dataTable['output_type'] = 'display_data';\n",
              "        await google.colab.output.renderOutput(dataTable, element);\n",
              "        const docLink = document.createElement('div');\n",
              "        docLink.innerHTML = docLinkHtml;\n",
              "        element.appendChild(docLink);\n",
              "      }\n",
              "    </script>\n",
              "  </div>\n",
              "\n",
              "\n",
              "    <div id=\"df-04a7961f-d25b-497b-979a-1aaed85bc361\">\n",
              "      <button class=\"colab-df-quickchart\" onclick=\"quickchart('df-04a7961f-d25b-497b-979a-1aaed85bc361')\"\n",
              "                title=\"Suggest charts\"\n",
              "                style=\"display:none;\">\n",
              "\n",
              "<svg xmlns=\"http://www.w3.org/2000/svg\" height=\"24px\"viewBox=\"0 0 24 24\"\n",
              "     width=\"24px\">\n",
              "    <g>\n",
              "        <path d=\"M19 3H5c-1.1 0-2 .9-2 2v14c0 1.1.9 2 2 2h14c1.1 0 2-.9 2-2V5c0-1.1-.9-2-2-2zM9 17H7v-7h2v7zm4 0h-2V7h2v10zm4 0h-2v-4h2v4z\"/>\n",
              "    </g>\n",
              "</svg>\n",
              "      </button>\n",
              "\n",
              "<style>\n",
              "  .colab-df-quickchart {\n",
              "      --bg-color: #E8F0FE;\n",
              "      --fill-color: #1967D2;\n",
              "      --hover-bg-color: #E2EBFA;\n",
              "      --hover-fill-color: #174EA6;\n",
              "      --disabled-fill-color: #AAA;\n",
              "      --disabled-bg-color: #DDD;\n",
              "  }\n",
              "\n",
              "  [theme=dark] .colab-df-quickchart {\n",
              "      --bg-color: #3B4455;\n",
              "      --fill-color: #D2E3FC;\n",
              "      --hover-bg-color: #434B5C;\n",
              "      --hover-fill-color: #FFFFFF;\n",
              "      --disabled-bg-color: #3B4455;\n",
              "      --disabled-fill-color: #666;\n",
              "  }\n",
              "\n",
              "  .colab-df-quickchart {\n",
              "    background-color: var(--bg-color);\n",
              "    border: none;\n",
              "    border-radius: 50%;\n",
              "    cursor: pointer;\n",
              "    display: none;\n",
              "    fill: var(--fill-color);\n",
              "    height: 32px;\n",
              "    padding: 0;\n",
              "    width: 32px;\n",
              "  }\n",
              "\n",
              "  .colab-df-quickchart:hover {\n",
              "    background-color: var(--hover-bg-color);\n",
              "    box-shadow: 0 1px 2px rgba(60, 64, 67, 0.3), 0 1px 3px 1px rgba(60, 64, 67, 0.15);\n",
              "    fill: var(--button-hover-fill-color);\n",
              "  }\n",
              "\n",
              "  .colab-df-quickchart-complete:disabled,\n",
              "  .colab-df-quickchart-complete:disabled:hover {\n",
              "    background-color: var(--disabled-bg-color);\n",
              "    fill: var(--disabled-fill-color);\n",
              "    box-shadow: none;\n",
              "  }\n",
              "\n",
              "  .colab-df-spinner {\n",
              "    border: 2px solid var(--fill-color);\n",
              "    border-color: transparent;\n",
              "    border-bottom-color: var(--fill-color);\n",
              "    animation:\n",
              "      spin 1s steps(1) infinite;\n",
              "  }\n",
              "\n",
              "  @keyframes spin {\n",
              "    0% {\n",
              "      border-color: transparent;\n",
              "      border-bottom-color: var(--fill-color);\n",
              "      border-left-color: var(--fill-color);\n",
              "    }\n",
              "    20% {\n",
              "      border-color: transparent;\n",
              "      border-left-color: var(--fill-color);\n",
              "      border-top-color: var(--fill-color);\n",
              "    }\n",
              "    30% {\n",
              "      border-color: transparent;\n",
              "      border-left-color: var(--fill-color);\n",
              "      border-top-color: var(--fill-color);\n",
              "      border-right-color: var(--fill-color);\n",
              "    }\n",
              "    40% {\n",
              "      border-color: transparent;\n",
              "      border-right-color: var(--fill-color);\n",
              "      border-top-color: var(--fill-color);\n",
              "    }\n",
              "    60% {\n",
              "      border-color: transparent;\n",
              "      border-right-color: var(--fill-color);\n",
              "    }\n",
              "    80% {\n",
              "      border-color: transparent;\n",
              "      border-right-color: var(--fill-color);\n",
              "      border-bottom-color: var(--fill-color);\n",
              "    }\n",
              "    90% {\n",
              "      border-color: transparent;\n",
              "      border-bottom-color: var(--fill-color);\n",
              "    }\n",
              "  }\n",
              "</style>\n",
              "\n",
              "      <script>\n",
              "        async function quickchart(key) {\n",
              "          const quickchartButtonEl =\n",
              "            document.querySelector('#' + key + ' button');\n",
              "          quickchartButtonEl.disabled = true;  // To prevent multiple clicks.\n",
              "          quickchartButtonEl.classList.add('colab-df-spinner');\n",
              "          try {\n",
              "            const charts = await google.colab.kernel.invokeFunction(\n",
              "                'suggestCharts', [key], {});\n",
              "          } catch (error) {\n",
              "            console.error('Error during call to suggestCharts:', error);\n",
              "          }\n",
              "          quickchartButtonEl.classList.remove('colab-df-spinner');\n",
              "          quickchartButtonEl.classList.add('colab-df-quickchart-complete');\n",
              "        }\n",
              "        (() => {\n",
              "          let quickchartButtonEl =\n",
              "            document.querySelector('#df-04a7961f-d25b-497b-979a-1aaed85bc361 button');\n",
              "          quickchartButtonEl.style.display =\n",
              "            google.colab.kernel.accessAllowed ? 'block' : 'none';\n",
              "        })();\n",
              "      </script>\n",
              "    </div>\n",
              "\n",
              "    </div>\n",
              "  </div>\n"
            ],
            "application/vnd.google.colaboratory.intrinsic+json": {
              "type": "dataframe",
              "summary": "{\n  \"name\": \"tracker\",\n  \"rows\": 5,\n  \"fields\": [\n    {\n      \"column\": \"date\",\n      \"properties\": {\n        \"dtype\": \"date\",\n        \"min\": \"2025-04-01 00:00:00\",\n        \"max\": \"2025-04-15 00:00:00\",\n        \"num_unique_values\": 4,\n        \"samples\": [\n          \"2025-04-02 00:00:00\",\n          \"2025-04-15 00:00:00\",\n          \"2025-04-01 00:00:00\"\n        ],\n        \"semantic_type\": \"\",\n        \"description\": \"\"\n      }\n    },\n    {\n      \"column\": \"amount\",\n      \"properties\": {\n        \"dtype\": \"number\",\n        \"std\": 917,\n        \"min\": -100,\n        \"max\": 2000,\n        \"num_unique_values\": 5,\n        \"samples\": [\n          -20,\n          -30,\n          2000\n        ],\n        \"semantic_type\": \"\",\n        \"description\": \"\"\n      }\n    },\n    {\n      \"column\": \"category\",\n      \"properties\": {\n        \"dtype\": \"string\",\n        \"num_unique_values\": 3,\n        \"samples\": [\n          \"Groceries\",\n          \"Transport\",\n          \"Salary\"\n        ],\n        \"semantic_type\": \"\",\n        \"description\": \"\"\n      }\n    }\n  ]\n}"
            }
          },
          "metadata": {},
          "execution_count": 58
        }
      ]
    },
    {
      "cell_type": "code",
      "source": [],
      "metadata": {
        "id": "mag2VKX6X25Z"
      },
      "execution_count": null,
      "outputs": []
    }
  ]
}