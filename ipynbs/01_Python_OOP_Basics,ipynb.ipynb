{
  "nbformat": 4,
  "nbformat_minor": 0,
  "metadata": {
    "colab": {
      "provenance": [],
      "collapsed_sections": [
        "7qScWP24JYtY",
        "JcH4IycJJdpv",
        "tBWIXUesJif0"
      ],
      "toc_visible": true,
      "authorship_tag": "ABX9TyMep3WTzrYzfpG5AEK9Dl46",
      "include_colab_link": true
    },
    "kernelspec": {
      "name": "python3",
      "display_name": "Python 3"
    },
    "language_info": {
      "name": "python"
    }
  },
  "cells": [
    {
      "cell_type": "markdown",
      "metadata": {
        "id": "view-in-github",
        "colab_type": "text"
      },
      "source": [
        "<a href=\"https://colab.research.google.com/github/dgalassi99/OOP_learning/blob/main/ipynbs/01_Python_OOP_Basics%2Cipynb.ipynb\" target=\"_parent\"><img src=\"https://colab.research.google.com/assets/colab-badge.svg\" alt=\"Open In Colab\"/></a>"
      ]
    },
    {
      "cell_type": "markdown",
      "source": [
        "# OOP: Lecture 1"
      ],
      "metadata": {
        "id": "rk3_ZFzBVe4b"
      }
    },
    {
      "cell_type": "markdown",
      "source": [
        "## Basics"
      ],
      "metadata": {
        "id": "7qScWP24JYtY"
      }
    },
    {
      "cell_type": "markdown",
      "source": [
        "Everything we create in python is an object"
      ],
      "metadata": {
        "id": "O90Id5LMWMdj"
      }
    },
    {
      "cell_type": "code",
      "execution_count": null,
      "metadata": {
        "colab": {
          "base_uri": "https://localhost:8080/"
        },
        "id": "_BucgnFbVODD",
        "outputId": "8a21911e-5934-4f28-9234-0405418b9229"
      },
      "outputs": [
        {
          "output_type": "stream",
          "name": "stdout",
          "text": [
            "<class 'str'>\n",
            "<class 'int'>\n"
          ]
        }
      ],
      "source": [
        "name = 'dami'\n",
        "age = 26\n",
        "print(type(name))\n",
        "print(type(age))"
      ]
    },
    {
      "cell_type": "markdown",
      "source": [
        "You can see that name and age are made by class 'str' and 'int'. Different object have different fucntions (methods) we can apply to them!"
      ],
      "metadata": {
        "id": "QmW581YyWZQ2"
      }
    },
    {
      "cell_type": "code",
      "source": [
        "name.capitalize()"
      ],
      "metadata": {
        "colab": {
          "base_uri": "https://localhost:8080/",
          "height": 36
        },
        "id": "-45e9zYnWUap",
        "outputId": "8c8c8fe6-0d06-4ec1-ff1f-a9b55d9f4339"
      },
      "execution_count": null,
      "outputs": [
        {
          "output_type": "execute_result",
          "data": {
            "text/plain": [
              "'Dami'"
            ],
            "application/vnd.google.colaboratory.intrinsic+json": {
              "type": "string"
            }
          },
          "metadata": {},
          "execution_count": 2
        }
      ]
    },
    {
      "cell_type": "markdown",
      "source": [
        "Focusing on name variable , this is assigned to string object created by string class. The str class gives us useful methods that can be applied to the sting data"
      ],
      "metadata": {
        "id": "RCidLVhJW_0s"
      }
    },
    {
      "cell_type": "markdown",
      "source": [
        "We can create our own classes...\n",
        "Within a class we can create methods (functions) and atributes (data)"
      ],
      "metadata": {
        "id": "CbxQ9nJhXSup"
      }
    },
    {
      "cell_type": "code",
      "source": [
        "class Dog:\n",
        "  #define a method\n",
        "  def bark(self):\n",
        "    print('woof')"
      ],
      "metadata": {
        "id": "h97HboyPWt7t"
      },
      "execution_count": null,
      "outputs": []
    },
    {
      "cell_type": "code",
      "source": [
        "#define a variable dog1 and assign it to an instance of (object made from the dog class)\n",
        "dog1 = Dog()\n",
        "#call/access the bark method (bark)\n",
        "dog1.bark()\n",
        "\n",
        "dog2 = Dog()\n",
        "dog2.bark()"
      ],
      "metadata": {
        "colab": {
          "base_uri": "https://localhost:8080/"
        },
        "id": "KLR-cnvRdWEU",
        "outputId": "7195751d-1d88-4736-e344-576053177e65"
      },
      "execution_count": null,
      "outputs": [
        {
          "output_type": "stream",
          "name": "stdout",
          "text": [
            "woof\n",
            "woof\n"
          ]
        }
      ]
    },
    {
      "cell_type": "markdown",
      "source": [
        "Creating many dogs is not very useful cause they all use the same method. So let's add some attributes to the class!\n",
        "- The __init__ method is a special method run only once when an object is instanciated"
      ],
      "metadata": {
        "id": "1lSxgH1OYYcZ"
      }
    },
    {
      "cell_type": "code",
      "source": [
        "class Dog:\n",
        "\n",
        "  #define init\n",
        "  def __init__(self, name, breed):\n",
        "    self.name = name\n",
        "    self.breed = breed\n",
        "\n",
        "  #define a method\n",
        "  def bark(self):\n",
        "    print('woof')"
      ],
      "metadata": {
        "id": "yZPsHxp9YGtf"
      },
      "execution_count": null,
      "outputs": []
    },
    {
      "cell_type": "code",
      "source": [
        "#define a variable dog1 and assign it to an instance of (object made from the dog class)\n",
        "dog1 = Dog('bob','labrador')\n",
        "#call/access the bark method (bark)\n",
        "dog1.bark()\n",
        "print(dog1.name)\n",
        "print(dog1.breed)\n",
        "\n",
        "dog2 = Dog('lily','pitbull')\n",
        "dog2.bark()\n",
        "print(dog2.name)\n",
        "print(dog2.breed)"
      ],
      "metadata": {
        "colab": {
          "base_uri": "https://localhost:8080/"
        },
        "id": "_FU7eeL0dznd",
        "outputId": "25897a1d-5a36-4922-8325-90ebd16b8b83"
      },
      "execution_count": null,
      "outputs": [
        {
          "output_type": "stream",
          "name": "stdout",
          "text": [
            "woof\n",
            "bob\n",
            "labrador\n",
            "woof\n",
            "lily\n",
            "pitbull\n"
          ]
        }
      ]
    },
    {
      "cell_type": "markdown",
      "source": [
        "Say we want to associate each dog to an owner and his credentials"
      ],
      "metadata": {
        "id": "0WmPpeDde33x"
      }
    },
    {
      "cell_type": "code",
      "source": [
        "class Dog:\n",
        "  #define init\n",
        "  def __init__(self, name, breed, owner):\n",
        "    self.name = name\n",
        "    self.breed = breed\n",
        "    self.owner = owner\n",
        "\n",
        "  #define a method\n",
        "  def bark(self):\n",
        "    print('woof')\n",
        "\n",
        "class Owner:\n",
        "  def __init__(self, name, address, contact_number):\n",
        "    self.name = name\n",
        "    self.address = address\n",
        "    self.contact_number = contact_number"
      ],
      "metadata": {
        "id": "_F0yQYpTd8km"
      },
      "execution_count": null,
      "outputs": []
    },
    {
      "cell_type": "code",
      "source": [
        "owner1 = Owner('dami', 'oxford street 21,A','333666999')\n",
        "dog1 = Dog('bob','labrador', owner1)\n",
        "\n",
        "#now you can access the name of the owner of dog1\n",
        "dog1.owner.name"
      ],
      "metadata": {
        "colab": {
          "base_uri": "https://localhost:8080/",
          "height": 36
        },
        "id": "-bhl5zYaf4ek",
        "outputId": "881b18f9-99f2-4057-da6b-ea66d0c311ba"
      },
      "execution_count": null,
      "outputs": [
        {
          "output_type": "execute_result",
          "data": {
            "text/plain": [
              "'dami'"
            ],
            "application/vnd.google.colaboratory.intrinsic+json": {
              "type": "string"
            }
          },
          "metadata": {},
          "execution_count": 16
        }
      ]
    },
    {
      "cell_type": "markdown",
      "source": [
        "Summary:\n",
        "- class: blueprint to create object by defining which atrtibutes (data) and methods (functions) the obj will have\n",
        "- object: an instance of a class (a specific example created by a class blueprint with its own attributes and methods)\n",
        "- attribute: variable storing information about an object\n",
        "-method: function defining which actions an object can perform\n",
        "\n",
        "\n",
        "What is self?\n",
        "\n",
        "self refers to the instance of the specific class itslef\n",
        "\n",
        "Dog('dami',owner1) and Dog('billy,owner2) are both objects but different becaus they have different data. Self is used to access specific objects attributes and methods from inside the class.\n",
        "\n",
        "What is an instance, what does instantiate means?\n",
        "\n",
        "When we create an obj from a class you are instantiating a class, the obj is an instance of that class. Thus an instance of the dog class is a dog object"
      ],
      "metadata": {
        "id": "SLH2qrdhg92v"
      }
    },
    {
      "cell_type": "code",
      "source": [
        "class Person:\n",
        "  def __init__(self,name,age):\n",
        "    self.name = name\n",
        "    self.age = age\n",
        "\n",
        "  def greet(self):\n",
        "    print(f'Hello I am {self.name}, I am {self.age} years old')\n"
      ],
      "metadata": {
        "id": "v2W5EWTTgGEV"
      },
      "execution_count": null,
      "outputs": []
    },
    {
      "cell_type": "code",
      "source": [
        "person1 = Person('Alex',30)\n",
        "person1.greet()"
      ],
      "metadata": {
        "colab": {
          "base_uri": "https://localhost:8080/"
        },
        "id": "r8GyJALTRBj2",
        "outputId": "26ae5849-87cd-4a45-fc78-c2347e06c236"
      },
      "execution_count": null,
      "outputs": [
        {
          "output_type": "stream",
          "name": "stdout",
          "text": [
            "Hello I am Alex, I am 30 years old\n"
          ]
        }
      ]
    },
    {
      "cell_type": "markdown",
      "source": [
        "Let's see how to access and modify data in objects :)"
      ],
      "metadata": {
        "id": "Y7V18hp4SSYp"
      }
    },
    {
      "cell_type": "code",
      "source": [
        "class User:\n",
        "  def __init__(self,username,email,password):\n",
        "    self.username = username\n",
        "    self.email = email\n",
        "    self.password = password\n",
        "\n",
        "  def say_hi_to_user(self, user):\n",
        "    print(f'Sending message to {user.username}: Hi {user.username} it is {self.username}')\n"
      ],
      "metadata": {
        "id": "Q1JuSYiwSbBB"
      },
      "execution_count": null,
      "outputs": []
    },
    {
      "cell_type": "code",
      "source": [
        "user1 = User('isocha','iso@gmail.com','iso123')\n",
        "user2 = User('bubu','bubu@gmail.com','bubu789')"
      ],
      "metadata": {
        "id": "EAikDoG6TE4x"
      },
      "execution_count": null,
      "outputs": []
    },
    {
      "cell_type": "code",
      "source": [
        "user1.say_hi_to_user(user2)"
      ],
      "metadata": {
        "colab": {
          "base_uri": "https://localhost:8080/"
        },
        "id": "wzWrxE1oTVXf",
        "outputId": "a19c502f-7cfd-420a-b8f3-37123d1acb2d"
      },
      "execution_count": null,
      "outputs": [
        {
          "output_type": "stream",
          "name": "stdout",
          "text": [
            "Sending message to bubu: Hi bubu it is isocha\n"
          ]
        }
      ]
    },
    {
      "cell_type": "code",
      "source": [
        "#we can assign new values to attributes\n",
        "user1.email = 'iso90@gmail.com'\n",
        "print(user1.email)"
      ],
      "metadata": {
        "colab": {
          "base_uri": "https://localhost:8080/"
        },
        "id": "q0p3p11pTeo-",
        "outputId": "1228251f-8bdb-4018-b3ed-606291f5af37"
      },
      "execution_count": null,
      "outputs": [
        {
          "output_type": "stream",
          "name": "stdout",
          "text": [
            "iso90@gmail.com\n"
          ]
        }
      ]
    },
    {
      "cell_type": "code",
      "source": [
        "#but this way we can assign whatever to it, like a int or a name... better ways?"
      ],
      "metadata": {
        "id": "vF3QJAUzT2pQ"
      },
      "execution_count": null,
      "outputs": []
    },
    {
      "cell_type": "markdown",
      "source": [
        "We need to protect the attributes to avoid errors!"
      ],
      "metadata": {
        "id": "UwAylZoMUUGO"
      }
    },
    {
      "cell_type": "markdown",
      "source": [
        "## Protection and Privatization of Attributes"
      ],
      "metadata": {
        "id": "JcH4IycJJdpv"
      }
    },
    {
      "cell_type": "code",
      "source": [
        "class User:\n",
        "  def __init__(self,username,email,password):\n",
        "    self.username = username\n",
        "    #protecting it by inserting '_' before. This means we can t read\n",
        "    #the attribute out of this class\n",
        "    self._email = email\n",
        "    self.password = password\n",
        "\n",
        "  def get_email(self):\n",
        "   return self._email"
      ],
      "metadata": {
        "id": "B8QWLE4YUSNt"
      },
      "execution_count": null,
      "outputs": []
    },
    {
      "cell_type": "markdown",
      "source": [
        "To make a clearer example..."
      ],
      "metadata": {
        "id": "UteW3Q1IxTgm"
      }
    },
    {
      "cell_type": "code",
      "source": [
        "class User:\n",
        "  def __init__(self,username,email,password):\n",
        "    self.username = username\n",
        "    #protecting it by inserting '_' before. This means we can t read\n",
        "    #the attribute out of this class\n",
        "    self._email = email\n",
        "    self.password = password\n",
        "\n",
        "  def clean_email(self):\n",
        "    #make the email lowercase and strip out leading and leaning white spaces\n",
        "    # Use self._email to refer to the protected attribute.\n",
        "    return self._email.lower().strip()"
      ],
      "metadata": {
        "id": "H4DzkAP2xVHs"
      },
      "execution_count": null,
      "outputs": []
    },
    {
      "cell_type": "code",
      "source": [
        "user1 = User('isocha',' IsO@gmail.com ','iso123')\n",
        "print(user1._email)\n",
        "print(user1.clean_email())\n",
        "#this workds but should not be done ethically :)\n",
        "user1._email = 'new_email'\n",
        "print(user1._email)"
      ],
      "metadata": {
        "colab": {
          "base_uri": "https://localhost:8080/"
        },
        "id": "cIT12YCixoMh",
        "outputId": "c28751d4-d448-41a3-97ab-ecd70807865a"
      },
      "execution_count": null,
      "outputs": [
        {
          "output_type": "stream",
          "name": "stdout",
          "text": [
            " IsO@gmail.com \n",
            "iso@gmail.com\n",
            "new_email\n"
          ]
        }
      ]
    },
    {
      "cell_type": "markdown",
      "source": [
        "If we use a double underscore '__' we make atribute private. If you try to access the atrtribute outside of the class you cant. Protected variable can be accessed outside of the class but we are not supposed to do (ethical coding behaviour). Private can't literally be accessed!"
      ],
      "metadata": {
        "id": "qGWa2aq6y7_3"
      }
    },
    {
      "cell_type": "markdown",
      "source": [],
      "metadata": {
        "id": "SPOZChh-z-mS"
      }
    },
    {
      "cell_type": "markdown",
      "source": [
        "## Getter & Setter"
      ],
      "metadata": {
        "id": "tBWIXUesJif0"
      }
    },
    {
      "cell_type": "markdown",
      "source": [
        "### Using Methods: The Old Way"
      ],
      "metadata": {
        "id": "TfMGGMLEJl-3"
      }
    },
    {
      "cell_type": "code",
      "source": [
        "from datetime import datetime as dt\n",
        "class User:\n",
        "  def __init__(self,username,email,password):\n",
        "    self.username = username\n",
        "    #protecting it by inserting '_' before. This means we can t read\n",
        "    #the attribute out of this class\n",
        "    self._email = email\n",
        "    self.password = password\n",
        "\n",
        "  #creating a getter method (convention is to prefic the name of the method with \"get\")\n",
        "  def get_email(self):\n",
        "    print(f'Email accessed at {dt.now()}')\n",
        "    return self._email\n",
        "\n",
        "  #creating a setter method (convention is to prefic the name of the method with \"set\")\n",
        "  def set_email(self, new_email):\n",
        "    if \"@\" in new_email:\n",
        "      print('New email accepted')\n",
        "      self._email = new_email\n",
        "    else:\n",
        "      print('Invalid email')\n",
        "\n"
      ],
      "metadata": {
        "id": "6tZS7bxeyKBQ"
      },
      "execution_count": null,
      "outputs": []
    },
    {
      "cell_type": "markdown",
      "source": [
        "Whats the point of creating two methods to access it? It is better as it gives us full control. For example here we print the time at which we are accessing the _email attribute!!"
      ],
      "metadata": {
        "id": "NHhFOgkI1Ktm"
      }
    },
    {
      "cell_type": "code",
      "source": [
        "user1 = User('isocha',' IsO@gmail.com ','iso123')\n",
        "#we are not supposed to do this... but we can with getters\n",
        "print(user1.get_email())\n",
        "#and modify it using setter  -> DO NOT USE user1._email = 'new_email'\n",
        "user1.set_email('iso99@gmail.com')\n",
        "print(user1.get_email())"
      ],
      "metadata": {
        "colab": {
          "base_uri": "https://localhost:8080/"
        },
        "id": "PNBPBUgj0gpA",
        "outputId": "c67d4f7d-0688-48a8-810e-12818730387b"
      },
      "execution_count": null,
      "outputs": [
        {
          "output_type": "stream",
          "name": "stdout",
          "text": [
            "Email accessed at 2025-04-28 10:02:33.474961\n",
            " IsO@gmail.com \n",
            "New email accepted\n",
            "Email accessed at 2025-04-28 10:02:33.475140\n",
            "iso99@gmail.com\n"
          ]
        }
      ]
    },
    {
      "cell_type": "markdown",
      "source": [
        "Also in setters we can add conditions to improve the code"
      ],
      "metadata": {
        "id": "6tiWLEEx2WD9"
      }
    },
    {
      "cell_type": "code",
      "source": [
        "user1.set_email('iso99gmail.com')"
      ],
      "metadata": {
        "colab": {
          "base_uri": "https://localhost:8080/"
        },
        "id": "cX8lGjai09aZ",
        "outputId": "f0dc52ec-7e86-48d3-c293-6e42e6f48791"
      },
      "execution_count": null,
      "outputs": [
        {
          "output_type": "stream",
          "name": "stdout",
          "text": [
            "Invalid email\n"
          ]
        }
      ]
    },
    {
      "cell_type": "code",
      "source": [
        "user1.set_email('iso99@gmail.com')"
      ],
      "metadata": {
        "colab": {
          "base_uri": "https://localhost:8080/"
        },
        "id": "39KuKsWd2UHo",
        "outputId": "9df2a4ac-12e9-49ba-aca4-caf9cc00c386"
      },
      "execution_count": null,
      "outputs": [
        {
          "output_type": "stream",
          "name": "stdout",
          "text": [
            "New email accepted\n"
          ]
        }
      ]
    },
    {
      "cell_type": "markdown",
      "source": [
        "Cool... but there is another way (faster) of doing this! Which is mostly used in python rather than in old programming languages as Java...\n",
        "We can use Python Properties!"
      ],
      "metadata": {
        "id": "mHNgoYLp2cGh"
      }
    },
    {
      "cell_type": "markdown",
      "source": [
        "### Using Properties: The Python (New) Way"
      ],
      "metadata": {
        "id": "CXi4U1neJs-y"
      }
    },
    {
      "cell_type": "code",
      "source": [
        "class User:\n",
        "  def __init__(self,username,email,password):\n",
        "    self.username = username\n",
        "    self._email = email #we want email attribute to be private\n",
        "    self.password = password\n",
        "\n",
        "  #GETTER ATTRIBURE\n",
        "  #we can create getter and setter PROPERTIES instead of METHODS\n",
        "  @property #\n",
        "  def email(self):\n",
        "    print('Getting email')\n",
        "    return self._email.strip().lower()\n",
        "\n",
        "  #SETTER ATTRIBUTE\n",
        "  #decorator for setter properties\n",
        "  @email.setter\n",
        "  def email(self, new_email):\n",
        "    if \"@\" in new_email:\n",
        "      print('New email accepted')\n",
        "      self._email = new_email\n",
        "    else:\n",
        "      print('Invalid email')\n"
      ],
      "metadata": {
        "id": "dVXx_Q9P2wRW"
      },
      "execution_count": null,
      "outputs": []
    },
    {
      "cell_type": "markdown",
      "source": [
        "Advantage? Just protect the variable but you can call it unprotected outside of the class when using properties!\n",
        "\n",
        "So you can add them later and do not care about modiffyig all teh script with _, just add it in the class where is defined!"
      ],
      "metadata": {
        "id": "q-SADFgSGtr6"
      }
    },
    {
      "cell_type": "code",
      "source": [
        "user1 = User('isocha',' IsO@gmail.com ','iso123')\n",
        "#I can use email without saying _email while this is needed with get and set methods!\n",
        "print(user1.email)"
      ],
      "metadata": {
        "colab": {
          "base_uri": "https://localhost:8080/"
        },
        "id": "mi7meka6GBI_",
        "outputId": "29ca0a34-324b-4adb-8e40-7710425885f4"
      },
      "execution_count": null,
      "outputs": [
        {
          "output_type": "stream",
          "name": "stdout",
          "text": [
            "Getting email\n",
            "iso@gmail.com\n"
          ]
        }
      ]
    },
    {
      "cell_type": "code",
      "source": [
        "#to set a property out of the class using setter property...\n",
        "user1.email = 'new_email'\n",
        "user1.email"
      ],
      "metadata": {
        "colab": {
          "base_uri": "https://localhost:8080/",
          "height": 72
        },
        "id": "2Ows-k4eGSN2",
        "outputId": "2fe6493f-6f3f-4840-e2eb-481c39c0f104"
      },
      "execution_count": null,
      "outputs": [
        {
          "output_type": "stream",
          "name": "stdout",
          "text": [
            "Invalid email\n",
            "Getting email\n"
          ]
        },
        {
          "output_type": "execute_result",
          "data": {
            "text/plain": [
              "'iso@gmail.com'"
            ],
            "application/vnd.google.colaboratory.intrinsic+json": {
              "type": "string"
            }
          },
          "metadata": {},
          "execution_count": 43
        }
      ]
    },
    {
      "cell_type": "markdown",
      "source": [
        "## Static Attributes & Methods"
      ],
      "metadata": {
        "id": "dW6azksrJyZR"
      }
    },
    {
      "cell_type": "markdown",
      "source": [
        "What is the difference between *Static and Instance Attributes*?\n",
        "\n",
        "- Static (class) attribute belogns to the class itself and not to any specific instance (object) of the class."
      ],
      "metadata": {
        "id": "caFtM96jJ4UV"
      }
    },
    {
      "cell_type": "code",
      "source": [
        "class User:\n",
        "\n",
        "  #inititalizing counter to count how many user object we create (instantiate using the class User)\n",
        "  user_count = 0\n",
        "\n",
        "  def __init__(self,username,email,password):\n",
        "    self.username = username\n",
        "    self.email = email\n",
        "    self.password = password\n",
        "    #increamenting by 1 user_count when an object is created\n",
        "    User.user_count += 1\n",
        "\n",
        "  def display_user(self):\n",
        "    print(f'Username: {self.username}, Email: {self.email}')"
      ],
      "metadata": {
        "id": "RFMGxkNWJ1lc"
      },
      "execution_count": null,
      "outputs": []
    },
    {
      "cell_type": "code",
      "source": [
        "user1 = User('isocha',' IsO@gmail.com ','iso123')\n",
        "user2 = User('bubu','bubu@gmail.com','bubu789')\n",
        "print(User.user_count)"
      ],
      "metadata": {
        "colab": {
          "base_uri": "https://localhost:8080/"
        },
        "id": "qrWLYoi6LLXD",
        "outputId": "53c9dba8-d498-4421-e1fa-ab8264619a73"
      },
      "execution_count": null,
      "outputs": [
        {
          "output_type": "stream",
          "name": "stdout",
          "text": [
            "2\n"
          ]
        }
      ]
    },
    {
      "cell_type": "code",
      "source": [
        "#you can also access user_count (static attribute) via the objects instanciated by the class used to create\n",
        "#the object itself\n",
        "print(user1.user_count)"
      ],
      "metadata": {
        "colab": {
          "base_uri": "https://localhost:8080/"
        },
        "id": "wEb6jB3QLWRl",
        "outputId": "821b1fe3-ae2c-4c79-cfb2-94b44484781d"
      },
      "execution_count": null,
      "outputs": [
        {
          "output_type": "stream",
          "name": "stdout",
          "text": [
            "2\n"
          ]
        }
      ]
    },
    {
      "cell_type": "markdown",
      "source": [
        "Static atribute are useful for data that are commons for different ojects... like:\n",
        "- counters\n",
        "- totals\n",
        "- shared parameters\n",
        "..."
      ],
      "metadata": {
        "id": "wKvOeEAwMCx7"
      }
    },
    {
      "cell_type": "markdown",
      "source": [
        "What is a static method? Same concept and we use a @staticdecorator"
      ],
      "metadata": {
        "id": "NyJR_JubNfOB"
      }
    },
    {
      "cell_type": "code",
      "source": [
        "class BankAccount:\n",
        "\n",
        "  #static attribute (a parameter)\n",
        "  MIN_BALANCE = 100\n",
        "\n",
        "  #instance attributes (into __init__)\n",
        "  def __init__(self,name,balance = 0): # Corrected the typo here\n",
        "    self.name = name #instance attr\n",
        "    self._balance = balance #protected instance attr\n",
        "\n",
        "  #instance method\n",
        "  def deposit(self,amount):\n",
        "    if amount > 0:\n",
        "      self._balance += amount\n",
        "      print(f\"{self.name}'new balance after deposit of {amount} is: {self._balance}\")\n",
        "    else:\n",
        "      print('Deposit amount must be positive')\n",
        "\n",
        "  #static method\n",
        "  @staticmethod\n",
        "  def is_valid_interest_rate(rate):\n",
        "    return 0 <= rate <= 5"
      ],
      "metadata": {
        "id": "mZjCL-9cLgAd"
      },
      "execution_count": null,
      "outputs": []
    },
    {
      "cell_type": "code",
      "source": [
        "bank_account = BankAccount('Alice',500)\n",
        "bank_account.deposit(200)"
      ],
      "metadata": {
        "colab": {
          "base_uri": "https://localhost:8080/"
        },
        "id": "HeVHuXMOO9pB",
        "outputId": "a1ad1e74-ae2d-4650-fdbe-8e0d920aa379"
      },
      "execution_count": null,
      "outputs": [
        {
          "output_type": "stream",
          "name": "stdout",
          "text": [
            "Alice'new balance after deposit of 200 is: 700\n"
          ]
        }
      ]
    },
    {
      "cell_type": "code",
      "source": [
        "print(BankAccount.is_valid_interest_rate(3))"
      ],
      "metadata": {
        "colab": {
          "base_uri": "https://localhost:8080/"
        },
        "id": "XFIDcs9fPSkd",
        "outputId": "334a0a6e-1df0-4cb1-c4db-90ccb266a413"
      },
      "execution_count": null,
      "outputs": [
        {
          "output_type": "stream",
          "name": "stdout",
          "text": [
            "True\n"
          ]
        }
      ]
    },
    {
      "cell_type": "markdown",
      "source": [
        "Creating static methods and attributes is memory efficient as they are stored only once inside the class and not stored in each object instanciated by the class itself!!!<"
      ],
      "metadata": {
        "id": "9-5mRQ5PQAQX"
      }
    },
    {
      "cell_type": "markdown",
      "source": [
        "## Protection and Privatization of Methods"
      ],
      "metadata": {
        "id": "eNEssKuIQpeg"
      }
    },
    {
      "cell_type": "code",
      "source": [
        "class BankAccount:\n",
        "\n",
        "  #static attribute (a parameter)\n",
        "  MIN_BALANCE = 100\n",
        "\n",
        "  #instance attributes (into __init__)\n",
        "  def __init__(self,name,balance = 0): # Corrected the typo here\n",
        "    self.name = name #instance attr\n",
        "    self._balance = balance #protected instance attr\n",
        "\n",
        "  #protected and private methods\n",
        "  #-------------------------------------------#\n",
        "  def _is_valid_amount(self,amount):\n",
        "    return amount > 0\n",
        "\n",
        "  def __log_transaction(self,transaction_type,amount):\n",
        "    print(f'Logging the {transaction_type} of {amount}, new balance is {self._balance}')\n",
        "  #-------------------------------------------#\n",
        "\n",
        "  #instance method\n",
        "  def deposit(self,amount):\n",
        "    if self._is_valid_amount(amount):\n",
        "      self._balance += amount\n",
        "      self.__log_transaction('deposit',amount)\n",
        "    else:\n",
        "      print('Deposit amount must be positive')\n",
        "\n",
        "  #static method\n",
        "  @staticmethod\n",
        "  def is_valid_interest_rate(rate):\n",
        "    return 0 <= rate <= 5"
      ],
      "metadata": {
        "id": "z496aAerQsIL"
      },
      "execution_count": null,
      "outputs": []
    },
    {
      "cell_type": "code",
      "source": [
        "bank_account._log_transaction('deposit',200)\n",
        "\n",
        "#will not work cause the method is private"
      ],
      "metadata": {
        "colab": {
          "base_uri": "https://localhost:8080/",
          "height": 147
        },
        "id": "QadKdEcuRuYH",
        "outputId": "1074dc56-2667-41e6-bc03-d74f05b89a37"
      },
      "execution_count": null,
      "outputs": [
        {
          "output_type": "error",
          "ename": "AttributeError",
          "evalue": "'BankAccount' object has no attribute '_log_transaction'",
          "traceback": [
            "\u001b[0;31m---------------------------------------------------------------------------\u001b[0m",
            "\u001b[0;31mAttributeError\u001b[0m                            Traceback (most recent call last)",
            "\u001b[0;32m<ipython-input-58-99d04cfff65d>\u001b[0m in \u001b[0;36m<cell line: 0>\u001b[0;34m()\u001b[0m\n\u001b[0;32m----> 1\u001b[0;31m \u001b[0mbank_account\u001b[0m\u001b[0;34m.\u001b[0m\u001b[0m_log_transaction\u001b[0m\u001b[0;34m(\u001b[0m\u001b[0;34m'deposit'\u001b[0m\u001b[0;34m,\u001b[0m\u001b[0;36m200\u001b[0m\u001b[0;34m)\u001b[0m\u001b[0;34m\u001b[0m\u001b[0;34m\u001b[0m\u001b[0m\n\u001b[0m",
            "\u001b[0;31mAttributeError\u001b[0m: 'BankAccount' object has no attribute '_log_transaction'"
          ]
        }
      ]
    },
    {
      "cell_type": "code",
      "source": [
        "bank_account.deposit(1000)"
      ],
      "metadata": {
        "colab": {
          "base_uri": "https://localhost:8080/"
        },
        "id": "veUXCHqPSX9p",
        "outputId": "1b7d1693-953a-4cf4-ba9f-fe35d491623d"
      },
      "execution_count": null,
      "outputs": [
        {
          "output_type": "stream",
          "name": "stdout",
          "text": [
            "Alice'new balance after deposit of 1000 is: 1700\n"
          ]
        }
      ]
    },
    {
      "cell_type": "code",
      "source": [],
      "metadata": {
        "id": "Y8_LMAXoSgjJ"
      },
      "execution_count": null,
      "outputs": []
    }
  ]
}