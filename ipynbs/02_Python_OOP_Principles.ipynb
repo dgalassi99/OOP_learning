{
  "nbformat": 4,
  "nbformat_minor": 0,
  "metadata": {
    "colab": {
      "provenance": [],
      "authorship_tag": "ABX9TyPCo8uB1AxvpCibeKBSqEpv",
      "include_colab_link": true
    },
    "kernelspec": {
      "name": "python3",
      "display_name": "Python 3"
    },
    "language_info": {
      "name": "python"
    }
  },
  "cells": [
    {
      "cell_type": "markdown",
      "metadata": {
        "id": "view-in-github",
        "colab_type": "text"
      },
      "source": [
        "<a href=\"https://colab.research.google.com/github/dgalassi99/OOP_learning/blob/main/ipynbs/02_Python_OOP_Principles.ipynb\" target=\"_parent\"><img src=\"https://colab.research.google.com/assets/colab-badge.svg\" alt=\"Open In Colab\"/></a>"
      ]
    },
    {
      "cell_type": "markdown",
      "source": [
        "# OOP: Lecture 2 - Principles"
      ],
      "metadata": {
        "id": "ujn6kJyCgNwR"
      }
    },
    {
      "cell_type": "markdown",
      "source": [
        "## Encapsulation"
      ],
      "metadata": {
        "id": "nPmJM4BIgStr"
      }
    },
    {
      "cell_type": "markdown",
      "source": [
        "Encapsulation helps hiding the logic inside a class by only exposing what is needed to the outside."
      ],
      "metadata": {
        "id": "PuCBBreMgV7M"
      }
    },
    {
      "cell_type": "code",
      "execution_count": 3,
      "metadata": {
        "colab": {
          "base_uri": "https://localhost:8080/"
        },
        "id": "XLlxBIYVgFLo",
        "outputId": "bb95a186-dce5-46f1-ac5f-c3c01ad1246c"
      },
      "outputs": [
        {
          "output_type": "stream",
          "name": "stdout",
          "text": [
            "-1\n"
          ]
        }
      ],
      "source": [
        "#example for demostration\n",
        "\n",
        "#---------- Bad Example Without Encapsulation ----------#\n",
        "\n",
        "class BadAccount:\n",
        "    def __init__(self,balance):\n",
        "      self.balance = balance\n",
        "\n",
        "account = BadAccount(0)\n",
        "account.balance = -1\n",
        "print(account.balance)"
      ]
    },
    {
      "cell_type": "code",
      "source": [
        "#---------- Example With Encapsulation ----------#\n",
        "\n",
        "class Account:\n",
        "    def __init__(self,balance):\n",
        "      self._balance = 0.0\n",
        "\n",
        "#getter property\n",
        "    @property\n",
        "    def balance(self):\n",
        "      return self._balance\n",
        "\n",
        "#deposit method\n",
        "    def deposit(self,amount):\n",
        "      if amount <= 0:\n",
        "        raise ValueError('Deposit amount must be positive')\n",
        "      self._balance += amount\n",
        "\n",
        "#withdraw method\n",
        "    def withdraw(self,amount):\n",
        "      if amount <= 0:\n",
        "        raise ValueError('Withdraw amount must be positive')\n",
        "      if amount > self._balance:\n",
        "        raise ValueError('Insufficient funds')\n",
        "      self._balance -= amount"
      ],
      "metadata": {
        "id": "Sa9jAx37g9L5"
      },
      "execution_count": 2,
      "outputs": []
    },
    {
      "cell_type": "code",
      "source": [
        "#creating an account object\n",
        "account = Account(0)\n",
        "print(account.balance)"
      ],
      "metadata": {
        "colab": {
          "base_uri": "https://localhost:8080/"
        },
        "id": "6TyDQRdgiQeK",
        "outputId": "50a3cab3-4201-4c78-b928-b19ec6c2940b"
      },
      "execution_count": 3,
      "outputs": [
        {
          "output_type": "stream",
          "name": "stdout",
          "text": [
            "0.0\n"
          ]
        }
      ]
    },
    {
      "cell_type": "code",
      "source": [
        "#we should see an error cause there is no a setter property!\n",
        "\n",
        "#account.balance = -1"
      ],
      "metadata": {
        "id": "x_MpwIgtiVFK"
      },
      "execution_count": 18,
      "outputs": []
    },
    {
      "cell_type": "code",
      "source": [
        "#now let's deposit something\n",
        "account.deposit(1.29)\n",
        "print(account.balance)\n",
        "account.withdraw(1.19)\n",
        "print(round(account.balance,3))"
      ],
      "metadata": {
        "colab": {
          "base_uri": "https://localhost:8080/"
        },
        "id": "SnGh59l6iawc",
        "outputId": "0f39295d-37d0-400a-f8af-5b60ed44f1d7"
      },
      "execution_count": 4,
      "outputs": [
        {
          "output_type": "stream",
          "name": "stdout",
          "text": [
            "1.29\n",
            "0.1\n"
          ]
        }
      ]
    },
    {
      "cell_type": "markdown",
      "source": [
        "- By providing a getter and no setter we allow the user to read the balance but not to set it direcly, which would be bad. The only way is to deposit and withdraw money. This ensures the integrity of the balance attribute!\n",
        "\n",
        "- Balance attribute is *encapsulated within the class*. The methods dictate teh rules for how this can be accessed and modified, ensuring it can not be \"corrupted\" by the user.\n",
        "\n",
        "- User can interact with bank account by using super intuitive methods like deposit and withdraw without worrying about how the code works in the background!"
      ],
      "metadata": {
        "id": "xPVWEYEAjTL1"
      }
    },
    {
      "cell_type": "markdown",
      "source": [
        "## Abstraction"
      ],
      "metadata": {
        "id": "4l9Mgg2kMA2-"
      }
    },
    {
      "cell_type": "markdown",
      "source": [
        "Is used to reduce complexity by hiding unnecessary details"
      ],
      "metadata": {
        "id": "ELRWeOdWMDSS"
      }
    },
    {
      "cell_type": "code",
      "source": [
        "class EmailService:\n",
        "\n",
        "  #implementation details user does not care about\n",
        "  #---------------------------------------------------#\n",
        "  #protected connect method\n",
        "  def _connect(self):\n",
        "    print('Connecting to email server')\n",
        "  #protected authentification method\n",
        "  def _authenticate(self):\n",
        "    print('Authenticating user')\n",
        "  #protected disconnetion method\n",
        "  def _disconnect(self):\n",
        "    print('Disconnecting from email server')\n",
        "  #---------------------------------------------------#\n",
        "\n",
        "  def send_email(self,message):\n",
        "    self._connect()\n",
        "    self._authenticate()\n",
        "    print(f'Sending email: {message}')\n",
        "    self._disconnect()\n",
        "\n",
        "  '''\n",
        "  The user can use the send_email method without needing to know all the\n",
        "  implementation details\n",
        "  '''"
      ],
      "metadata": {
        "id": "I83GA2nai9yR"
      },
      "execution_count": 12,
      "outputs": []
    },
    {
      "cell_type": "code",
      "source": [
        "email = EmailService()\n",
        "# the user should call all the methods everytime\n",
        "# if method were not protected (with no ABSTRACTION)\n",
        "'''\n",
        "email.connect()\n",
        "email.authenticate()\n",
        "email.send_email('Hello')\n",
        "email.disconnect()\n",
        "'''\n",
        "email.send_email('Only method to use using abstraction :)')"
      ],
      "metadata": {
        "colab": {
          "base_uri": "https://localhost:8080/"
        },
        "id": "rDzbVcvDNOfF",
        "outputId": "11b72755-f6c3-450c-f7b0-4bccc95631ca"
      },
      "execution_count": 13,
      "outputs": [
        {
          "output_type": "stream",
          "name": "stdout",
          "text": [
            "Connecting to email server\n",
            "Authenticating user\n",
            "Sending email: Only method to use using abstraction :)\n",
            "Disconnecting from email server\n"
          ]
        }
      ]
    },
    {
      "cell_type": "markdown",
      "source": [
        "Encapsulation vs Abstraction?\n",
        "\n",
        "- Encanpsulation restrics access to internal things that happens inside the class by protecting/privatizing methods/attributes.\n",
        "\n",
        "- Abstraction focuses on hiding complexitites by providing a simplified interface to operate with... Focus on what an object does, not how it does it!"
      ],
      "metadata": {
        "id": "ksszn5ekOmwO"
      }
    },
    {
      "cell_type": "markdown",
      "source": [
        "## Inheritance"
      ],
      "metadata": {
        "id": "JU-WcniePG1z"
      }
    },
    {
      "cell_type": "markdown",
      "source": [
        "Allows us to build classes (child classes) based on preexisting ones (parent classes)"
      ],
      "metadata": {
        "id": "5jx3vYn6POVb"
      }
    },
    {
      "cell_type": "code",
      "source": [
        "#parent class: general vehicle\n",
        "\n",
        "class Vehicle:\n",
        "\n",
        "  def __init__(self, brand, model, year):\n",
        "    self.brand = brand\n",
        "    self.model = model\n",
        "    self.year = year\n",
        "\n",
        "  def start(self):\n",
        "    print('Vehicle is starting')\n",
        "\n",
        "  def stop(self):\n",
        "    print('Vehicle is stopping')"
      ],
      "metadata": {
        "id": "u1cLepWhNosv"
      },
      "execution_count": 14,
      "outputs": []
    },
    {
      "cell_type": "code",
      "source": [
        "#child classes: specific vehicles\n",
        "\n",
        "class Car(Vehicle): #here we specify the parent from which it will inherit\n",
        "  def __init__(self, brand, model, year, num_doors, num_wheels): #same attribute of vehicles + some new ones\n",
        "    super().__init__(brand, model, year) #calling the parent class constructor\n",
        "    #defining the new attributes the child class has (not present in Vehicle class)\n",
        "    self.num_doors = num_doors\n",
        "    self.num_wheels = num_wheels\n",
        "\n",
        "class Moto(Vehicle):\n",
        "  def __init__(self, brand, model, year, num_wheels, wheels_type):\n",
        "    super().__init__(brand, model, year)\n",
        "    self.num_wheels = num_wheels\n",
        "    self.wheels_type = wheels_type"
      ],
      "metadata": {
        "id": "5J7TlXJgPlsD"
      },
      "execution_count": 15,
      "outputs": []
    },
    {
      "cell_type": "code",
      "source": [
        "car = Car('Toyota', 'Corolla', 2022, 4, 4)\n",
        "moto = Moto('Honda', 'CBR', 2023, 2, 'sport')\n",
        "print(car.__dict__)\n",
        "print(moto.__dict__)"
      ],
      "metadata": {
        "colab": {
          "base_uri": "https://localhost:8080/"
        },
        "id": "cH-DWj9ZQyTe",
        "outputId": "ea22f931-78d1-4a82-e5df-d6f56f585309"
      },
      "execution_count": 18,
      "outputs": [
        {
          "output_type": "stream",
          "name": "stdout",
          "text": [
            "{'brand': 'Toyota', 'model': 'Corolla', 'year': 2022, 'num_doors': 4, 'num_wheels': 4}\n",
            "{'brand': 'Honda', 'model': 'CBR', 'year': 2023, 'num_wheels': 2, 'wheels_type': 'sport'}\n"
          ]
        }
      ]
    },
    {
      "cell_type": "code",
      "source": [
        "#also the methods of Vehicle are inherited :)\n",
        "car.stop()\n",
        "moto.start()"
      ],
      "metadata": {
        "colab": {
          "base_uri": "https://localhost:8080/"
        },
        "id": "AEM1G5hVQ3mD",
        "outputId": "18394503-be1f-493a-bbba-59e629b431e5"
      },
      "execution_count": 21,
      "outputs": [
        {
          "output_type": "stream",
          "name": "stdout",
          "text": [
            "Vehicle is stopping\n",
            "Vehicle is starting\n"
          ]
        }
      ]
    },
    {
      "cell_type": "markdown",
      "source": [
        "## Polimorphism"
      ],
      "metadata": {
        "id": "hsjr0D1HRpnc"
      }
    },
    {
      "cell_type": "markdown",
      "source": [
        "Is the ability of an object to take many forms"
      ],
      "metadata": {
        "id": "hPY2ohHuRs4B"
      }
    },
    {
      "cell_type": "code",
      "source": [
        "# no polimorphism\n",
        "class Car:\n",
        "\n",
        "  def __init__(self, brand, model, year, num_wheels):\n",
        "    self.brand = brand\n",
        "    self.model = model\n",
        "    self.year = year\n",
        "    self.num_wheels = num_wheels\n",
        "\n",
        "  def start_car(self):\n",
        "    print('Car is starting')\n",
        "\n",
        "  def stop_car(self):\n",
        "    print('Car is stopping')\n",
        "\n",
        "class Moto:\n",
        "\n",
        "  def __init__(self, brand, model, year):\n",
        "    self.brand = brand\n",
        "    self.model = model\n",
        "    self.year = year\n",
        "\n",
        "  def start_moto(self):\n",
        "    print('Moto is starting')\n",
        "\n",
        "  def stop_moto(self):\n",
        "    print('Moto is stopping')"
      ],
      "metadata": {
        "id": "BQnCU3k3RcZJ"
      },
      "execution_count": 49,
      "outputs": []
    },
    {
      "cell_type": "code",
      "source": [
        "#create a list of vehicles to be inspected\n",
        "vehicles = [\n",
        "    Car('Toyota', 'Corolla', 2022, 4),\n",
        "    Moto('Honda', 'CBR', 2023)\n",
        "]\n",
        "#loop in the list --> will raise an error\n",
        "for vehicle in vehicles:\n",
        "  vehicle.start()"
      ],
      "metadata": {
        "colab": {
          "base_uri": "https://localhost:8080/",
          "height": 183
        },
        "id": "lQG8mMzXR4qw",
        "outputId": "c286d634-02fa-4adf-b163-95efe1e0fcab"
      },
      "execution_count": 50,
      "outputs": [
        {
          "output_type": "error",
          "ename": "AttributeError",
          "evalue": "'Car' object has no attribute 'start'",
          "traceback": [
            "\u001b[0;31m---------------------------------------------------------------------------\u001b[0m",
            "\u001b[0;31mAttributeError\u001b[0m                            Traceback (most recent call last)",
            "\u001b[0;32m<ipython-input-50-edf3c76615b7>\u001b[0m in \u001b[0;36m<cell line: 0>\u001b[0;34m()\u001b[0m\n\u001b[1;32m      6\u001b[0m \u001b[0;31m#loop in the list --> will raise an error\u001b[0m\u001b[0;34m\u001b[0m\u001b[0;34m\u001b[0m\u001b[0m\n\u001b[1;32m      7\u001b[0m \u001b[0;32mfor\u001b[0m \u001b[0mvehicle\u001b[0m \u001b[0;32min\u001b[0m \u001b[0mvehicles\u001b[0m\u001b[0;34m:\u001b[0m\u001b[0;34m\u001b[0m\u001b[0;34m\u001b[0m\u001b[0m\n\u001b[0;32m----> 8\u001b[0;31m   \u001b[0mvehicle\u001b[0m\u001b[0;34m.\u001b[0m\u001b[0mstart\u001b[0m\u001b[0;34m(\u001b[0m\u001b[0;34m)\u001b[0m\u001b[0;34m\u001b[0m\u001b[0;34m\u001b[0m\u001b[0m\n\u001b[0m",
            "\u001b[0;31mAttributeError\u001b[0m: 'Car' object has no attribute 'start'"
          ]
        }
      ]
    },
    {
      "cell_type": "code",
      "source": [
        "#loop in the list ...works but we have to look\n",
        "for vehicle in vehicles:\n",
        "  if isinstance(vehicle, Car):\n",
        "    print(f'Inspecting {vehicle.brand} {vehicle.model}')\n",
        "    vehicle.start_car()\n",
        "    vehicle.stop_car()\n",
        "  elif isinstance(vehicle, Moto):\n",
        "    print(f'Inspecting {vehicle.brand} {vehicle.model}')\n",
        "    vehicle.start_moto()\n",
        "    vehicle.stop_moto()\n",
        "  else:\n",
        "    raise Exception('Unknown vehicle type')\n",
        "# this is a messssssssssssssssss! as we need to figure out which object we are delaing with\n",
        "# before accessing information on objetc themselves"
      ],
      "metadata": {
        "colab": {
          "base_uri": "https://localhost:8080/"
        },
        "id": "A5HaTT1sS7Va",
        "outputId": "0ceac2a5-9c87-4df9-fa70-30f30a697e94"
      },
      "execution_count": 51,
      "outputs": [
        {
          "output_type": "stream",
          "name": "stdout",
          "text": [
            "Inspecting Toyota Corolla\n",
            "Car is starting\n",
            "Car is stopping\n",
            "Inspecting Honda CBR\n",
            "Moto is starting\n",
            "Moto is stopping\n"
          ]
        }
      ]
    },
    {
      "cell_type": "code",
      "source": [
        "# Parent class (\"Superclass\")\n",
        "class Vehicle:\n",
        "    def __init__(self, brand, model, year):\n",
        "        self.brand = brand\n",
        "        self.model = model\n",
        "        self.year = year\n",
        "\n",
        "    def start(self):\n",
        "        print(\"Vehicle is starting.\")\n",
        "\n",
        "    def stop(self):\n",
        "        print(\"Vehicle is stopping.\")\n",
        "\n",
        "# Child class (\"Subclass\") of Vehicle superclass\n",
        "class Car(Vehicle):\n",
        "    def __init__(self, brand, model, year, number_of_doors):\n",
        "        super().__init__(brand, model, year)\n",
        "        self.number_of_doors = number_of_doors\n",
        "\n",
        "    # Below, we \"override\" the start and stop methods, inherited from Vehicle, to provide car-specific behaviour\n",
        "\n",
        "    def start(self):\n",
        "        print(\"Car is starting.\")\n",
        "\n",
        "    def stop(self):\n",
        "        print(\"Car is stopping.\")\n",
        "\n",
        "# Child class (\"Subclass\") of Vehicle superclass\n",
        "class Motorcycle(Vehicle):\n",
        "    def __init__(self, brand, model, year):\n",
        "        super().__init__(brand, model, year)\n",
        "\n",
        "    # Below, we \"override\" the start and stop methods, inherited from Vehicle, to provide bike-specific behaviour\n",
        "\n",
        "    def start(self):\n",
        "        print(\"Motorcycle is starting.\")\n",
        "\n",
        "    def stop(self):\n",
        "        print(\"Motorcycle is stopping.\")"
      ],
      "metadata": {
        "id": "8i2sV6EbTJ8y"
      },
      "execution_count": 54,
      "outputs": []
    },
    {
      "cell_type": "code",
      "source": [
        "#now is much more simple\n",
        "\n",
        "vehicles = [\n",
        "    Car(\"Ford\", \"Focus\", 2008, 5),\n",
        "    Motorcycle(\"Honda\", \"Scoopy\", 2018)]\n",
        "\n",
        "for vehicle in vehicles:\n",
        "  if isinstance(vehicle, Vehicle):\n",
        "    print(f'Inspecting {vehicle.brand} {vehicle.model}')\n",
        "    vehicle.start()\n",
        "    vehicle.stop()"
      ],
      "metadata": {
        "colab": {
          "base_uri": "https://localhost:8080/"
        },
        "id": "RbY5suJoVK8W",
        "outputId": "943e4e67-856b-47b8-f307-22af3ffda458"
      },
      "execution_count": 56,
      "outputs": [
        {
          "output_type": "stream",
          "name": "stdout",
          "text": [
            "Inspecting Ford Focus\n",
            "Car is starting.\n",
            "Car is stopping.\n",
            "Inspecting Honda Scoopy\n",
            "Motorcycle is starting.\n",
            "Motorcycle is stopping.\n"
          ]
        }
      ]
    },
    {
      "cell_type": "code",
      "source": [
        "# Parent class (\"Superclass\")\n",
        "class Vehicle:\n",
        "    def __init__(self, brand, model, year):\n",
        "        self.brand = brand\n",
        "        self.model = model\n",
        "        self.year = year\n",
        "\n",
        "    def start(self):\n",
        "        print(\"Vehicle is starting.\")\n",
        "\n",
        "    def stop(self):\n",
        "        print(\"Vehicle is stopping.\")\n",
        "\n",
        "# Child class (\"Subclass\") of Vehicle superclass\n",
        "class Car(Vehicle):\n",
        "    def __init__(self, brand, model, year, number_of_doors):\n",
        "        super().__init__(brand, model, year)\n",
        "        self.number_of_doors = number_of_doors\n",
        "\n",
        "    # Below, we \"override\" the start and stop methods, inherited from Vehicle, to provide car-specific behaviour\n",
        "\n",
        "    def start(self):\n",
        "        print(\"Car is starting.\")\n",
        "\n",
        "    def stop(self):\n",
        "        print(\"Car is stopping.\")\n",
        "\n",
        "# Child class (\"Subclass\") of Vehicle superclass\n",
        "class Motorcycle(Vehicle):\n",
        "    def __init__(self, brand, model, year):\n",
        "        super().__init__(brand, model, year)\n",
        "\n",
        "    # Below, we \"override\" the start and stop methods, inherited from Vehicle, to provide bike-specific behaviour\n",
        "\n",
        "    def start(self):\n",
        "        print(\"Motorcycle is starting.\")\n",
        "\n",
        "    def stop(self):\n",
        "        print(\"Motorcycle is stopping.\")\n",
        "\n",
        "# To deomonstrate adding a new vehicle type no longer requires client code business logic modification -- we EXTEND by adding new plane class\n",
        "class Plane(Vehicle):\n",
        "    def __init__(self, brand, model, year, number_of_doors):\n",
        "        super().__init__(brand, model, year)\n",
        "        self.number_of_doors = number_of_doors\n",
        "\n",
        "    def start(self):\n",
        "        print(\"Plane is starting.\")\n",
        "\n",
        "    def stop(self):\n",
        "        print(\"Plane is stopping.\")\n",
        "\n",
        "# This class will be used to test that we deal with non-vehicles correctly\n",
        "class RandomClass:\n",
        "    someAttribute = \"Hello there\""
      ],
      "metadata": {
        "id": "5XM2bds_Vp8C"
      },
      "execution_count": 63,
      "outputs": []
    },
    {
      "cell_type": "code",
      "source": [
        "\n",
        "# Client code (in other words, inside some other class or script)\n",
        "# Create list of vehicles to inspect\n",
        "vehicles = [\n",
        "    Car(\"Ford\", \"Focus\", 2008, 5),\n",
        "    Motorcycle(\"Honda\", \"Scoopy\", 2018),\n",
        "    ########## ADD A PLANE TO THE LIST: #########\n",
        "    Plane(\"Boeing\", \"747\", 2015, 16),\n",
        "    ############################################\n",
        "    RandomClass(),\n",
        "]\n",
        "\n",
        "# Loop through list of vehicles and inspect them\n",
        "for vehicle in vehicles:\n",
        "    if isinstance(vehicle, Vehicle):\n",
        "        print(f\"Inspecting {vehicle.brand} {vehicle.model} ({type(vehicle).__name__})\")\n",
        "        vehicle.start()\n",
        "        vehicle.stop()\n",
        "    else:\n",
        "        raise Exception(\"Object is not a valid vehicle\")\n",
        "\n",
        "# LOGS:\n",
        "# Inspecting Ford Focus (Car)\n",
        "# Car is starting.\n",
        "# Car is stopping.\n",
        "# Inspecting Honda Scoopy (Motorcycle)\n",
        "# Motorcycle is starting.\n",
        "# Motorcycle is stopping.\n",
        "# Traceback (most recent call last):\n",
        "#   File \"/Users/danadams/Desktop/python-messing-about/play.py\", line 64, in <module>\n",
        "#     raise Exception(\"Object is not a valid vehicle\")\n",
        "# Exception: Object is not a valid vehicle"
      ],
      "metadata": {
        "colab": {
          "base_uri": "https://localhost:8080/",
          "height": 383
        },
        "id": "RMdE-yv5XEBM",
        "outputId": "9dad19d9-4d9c-4fbf-c053-a1fa88255417"
      },
      "execution_count": 64,
      "outputs": [
        {
          "output_type": "stream",
          "name": "stdout",
          "text": [
            "Inspecting Ford Focus (Car)\n",
            "Car is starting.\n",
            "Car is stopping.\n",
            "Inspecting Honda Scoopy (Motorcycle)\n",
            "Motorcycle is starting.\n",
            "Motorcycle is stopping.\n",
            "Inspecting Boeing 747 (Plane)\n",
            "Plane is starting.\n",
            "Plane is stopping.\n"
          ]
        },
        {
          "output_type": "error",
          "ename": "Exception",
          "evalue": "Object is not a valid vehicle",
          "traceback": [
            "\u001b[0;31m---------------------------------------------------------------------------\u001b[0m",
            "\u001b[0;31mException\u001b[0m                                 Traceback (most recent call last)",
            "\u001b[0;32m<ipython-input-64-c399ecf5488c>\u001b[0m in \u001b[0;36m<cell line: 0>\u001b[0;34m()\u001b[0m\n\u001b[1;32m     17\u001b[0m         \u001b[0mvehicle\u001b[0m\u001b[0;34m.\u001b[0m\u001b[0mstop\u001b[0m\u001b[0;34m(\u001b[0m\u001b[0;34m)\u001b[0m\u001b[0;34m\u001b[0m\u001b[0;34m\u001b[0m\u001b[0m\n\u001b[1;32m     18\u001b[0m     \u001b[0;32melse\u001b[0m\u001b[0;34m:\u001b[0m\u001b[0;34m\u001b[0m\u001b[0;34m\u001b[0m\u001b[0m\n\u001b[0;32m---> 19\u001b[0;31m         \u001b[0;32mraise\u001b[0m \u001b[0mException\u001b[0m\u001b[0;34m(\u001b[0m\u001b[0;34m\"Object is not a valid vehicle\"\u001b[0m\u001b[0;34m)\u001b[0m\u001b[0;34m\u001b[0m\u001b[0;34m\u001b[0m\u001b[0m\n\u001b[0m\u001b[1;32m     20\u001b[0m \u001b[0;34m\u001b[0m\u001b[0m\n\u001b[1;32m     21\u001b[0m \u001b[0;31m# LOGS:\u001b[0m\u001b[0;34m\u001b[0m\u001b[0;34m\u001b[0m\u001b[0m\n",
            "\u001b[0;31mException\u001b[0m: Object is not a valid vehicle"
          ]
        }
      ]
    },
    {
      "cell_type": "markdown",
      "source": [
        "Despite the objects being of different types, polymorphism allows us to treat them as instances of the super class Vehicle!"
      ],
      "metadata": {
        "id": "jSMuQ9VHXT5Y"
      }
    },
    {
      "cell_type": "code",
      "source": [],
      "metadata": {
        "id": "JbH1v5o1XMgZ"
      },
      "execution_count": null,
      "outputs": []
    }
  ]
}