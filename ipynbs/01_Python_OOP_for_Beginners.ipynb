{
  "nbformat": 4,
  "nbformat_minor": 0,
  "metadata": {
    "colab": {
      "provenance": [],
      "authorship_tag": "ABX9TyOIsKtxTWR/uIR3uShMc/PQ",
      "include_colab_link": true
    },
    "kernelspec": {
      "name": "python3",
      "display_name": "Python 3"
    },
    "language_info": {
      "name": "python"
    }
  },
  "cells": [
    {
      "cell_type": "markdown",
      "metadata": {
        "id": "view-in-github",
        "colab_type": "text"
      },
      "source": [
        "<a href=\"https://colab.research.google.com/github/dgalassi99/OOP_learning/blob/main/ipynbs/01_Python_OOP_for_Beginners.ipynb\" target=\"_parent\"><img src=\"https://colab.research.google.com/assets/colab-badge.svg\" alt=\"Open In Colab\"/></a>"
      ]
    },
    {
      "cell_type": "markdown",
      "source": [
        "# OOP: Lecture 1"
      ],
      "metadata": {
        "id": "rk3_ZFzBVe4b"
      }
    },
    {
      "cell_type": "markdown",
      "source": [
        "Everything we create in python is an object"
      ],
      "metadata": {
        "id": "O90Id5LMWMdj"
      }
    },
    {
      "cell_type": "code",
      "execution_count": 1,
      "metadata": {
        "colab": {
          "base_uri": "https://localhost:8080/"
        },
        "id": "_BucgnFbVODD",
        "outputId": "8a21911e-5934-4f28-9234-0405418b9229"
      },
      "outputs": [
        {
          "output_type": "stream",
          "name": "stdout",
          "text": [
            "<class 'str'>\n",
            "<class 'int'>\n"
          ]
        }
      ],
      "source": [
        "name = 'dami'\n",
        "age = 26\n",
        "print(type(name))\n",
        "print(type(age))"
      ]
    },
    {
      "cell_type": "markdown",
      "source": [
        "You can see that name and age are made by class 'str' and 'int'. Different object have different fucntions (methods) we can apply to them!"
      ],
      "metadata": {
        "id": "QmW581YyWZQ2"
      }
    },
    {
      "cell_type": "code",
      "source": [
        "name.capitalize()"
      ],
      "metadata": {
        "colab": {
          "base_uri": "https://localhost:8080/",
          "height": 36
        },
        "id": "-45e9zYnWUap",
        "outputId": "8c8c8fe6-0d06-4ec1-ff1f-a9b55d9f4339"
      },
      "execution_count": 2,
      "outputs": [
        {
          "output_type": "execute_result",
          "data": {
            "text/plain": [
              "'Dami'"
            ],
            "application/vnd.google.colaboratory.intrinsic+json": {
              "type": "string"
            }
          },
          "metadata": {},
          "execution_count": 2
        }
      ]
    },
    {
      "cell_type": "markdown",
      "source": [
        "Focusing on name variable , this is assigned to string object created by string class. The str class gives us useful methods that can be applied to the sting data"
      ],
      "metadata": {
        "id": "RCidLVhJW_0s"
      }
    },
    {
      "cell_type": "markdown",
      "source": [
        "We can create our own classes...\n",
        "Within a class we can create methods (functions) and atributes (data)"
      ],
      "metadata": {
        "id": "CbxQ9nJhXSup"
      }
    },
    {
      "cell_type": "code",
      "source": [
        "class Dog:\n",
        "  #define a method\n",
        "  def bark(self):\n",
        "    print('woof')"
      ],
      "metadata": {
        "id": "h97HboyPWt7t"
      },
      "execution_count": 6,
      "outputs": []
    },
    {
      "cell_type": "code",
      "source": [
        "#define a variable dog1 and assign it to an instance of (object made from the dog class)\n",
        "dog1 = Dog()\n",
        "#call/access the bark method (bark)\n",
        "dog1.bark()\n",
        "\n",
        "dog2 = Dog()\n",
        "dog2.bark()"
      ],
      "metadata": {
        "colab": {
          "base_uri": "https://localhost:8080/"
        },
        "id": "KLR-cnvRdWEU",
        "outputId": "7195751d-1d88-4736-e344-576053177e65"
      },
      "execution_count": 7,
      "outputs": [
        {
          "output_type": "stream",
          "name": "stdout",
          "text": [
            "woof\n",
            "woof\n"
          ]
        }
      ]
    },
    {
      "cell_type": "markdown",
      "source": [
        "Creating many dogs is not very useful cause they all use the same method. So let's add some attributes to the class!\n",
        "- The __init__ method is a special method run only once when an object is instanciated"
      ],
      "metadata": {
        "id": "1lSxgH1OYYcZ"
      }
    },
    {
      "cell_type": "code",
      "source": [
        "class Dog:\n",
        "\n",
        "  #define init\n",
        "  def __init__(self, name, breed):\n",
        "    self.name = name\n",
        "    self.breed = breed\n",
        "\n",
        "  #define a method\n",
        "  def bark(self):\n",
        "    print('woof')"
      ],
      "metadata": {
        "id": "yZPsHxp9YGtf"
      },
      "execution_count": 8,
      "outputs": []
    },
    {
      "cell_type": "code",
      "source": [
        "#define a variable dog1 and assign it to an instance of (object made from the dog class)\n",
        "dog1 = Dog('bob','labrador')\n",
        "#call/access the bark method (bark)\n",
        "dog1.bark()\n",
        "print(dog1.name)\n",
        "print(dog1.breed)\n",
        "\n",
        "dog2 = Dog('lily','pitbull')\n",
        "dog2.bark()\n",
        "print(dog2.name)\n",
        "print(dog2.breed)"
      ],
      "metadata": {
        "colab": {
          "base_uri": "https://localhost:8080/"
        },
        "id": "_FU7eeL0dznd",
        "outputId": "25897a1d-5a36-4922-8325-90ebd16b8b83"
      },
      "execution_count": 11,
      "outputs": [
        {
          "output_type": "stream",
          "name": "stdout",
          "text": [
            "woof\n",
            "bob\n",
            "labrador\n",
            "woof\n",
            "lily\n",
            "pitbull\n"
          ]
        }
      ]
    },
    {
      "cell_type": "markdown",
      "source": [
        "Say we want to associate each dog to an owner and his credentials"
      ],
      "metadata": {
        "id": "0WmPpeDde33x"
      }
    },
    {
      "cell_type": "code",
      "source": [
        "class Dog:\n",
        "  #define init\n",
        "  def __init__(self, name, breed, owner):\n",
        "    self.name = name\n",
        "    self.breed = breed\n",
        "    self.owner = owner\n",
        "\n",
        "  #define a method\n",
        "  def bark(self):\n",
        "    print('woof')\n",
        "\n",
        "class Owner:\n",
        "  def __init__(self, name, address, contact_number):\n",
        "    self.name = name\n",
        "    self.address = address\n",
        "    self.contact_number = contact_number"
      ],
      "metadata": {
        "id": "_F0yQYpTd8km"
      },
      "execution_count": 12,
      "outputs": []
    },
    {
      "cell_type": "code",
      "source": [
        "owner1 = Owner('dami', 'oxford street 21,A','333666999')\n",
        "dog1 = Dog('bob','labrador', owner1)\n",
        "\n",
        "#now you can access the name of the owner of dog1\n",
        "dog1.owner.name"
      ],
      "metadata": {
        "colab": {
          "base_uri": "https://localhost:8080/",
          "height": 36
        },
        "id": "-bhl5zYaf4ek",
        "outputId": "881b18f9-99f2-4057-da6b-ea66d0c311ba"
      },
      "execution_count": 16,
      "outputs": [
        {
          "output_type": "execute_result",
          "data": {
            "text/plain": [
              "'dami'"
            ],
            "application/vnd.google.colaboratory.intrinsic+json": {
              "type": "string"
            }
          },
          "metadata": {},
          "execution_count": 16
        }
      ]
    },
    {
      "cell_type": "markdown",
      "source": [
        "Summary:\n",
        "- class: blueprint to create object by defining which atrtibutes (data) and methods (functions) the obj will have\n",
        "- object: an instance of a class (a specific example created by a class blueprint with its own attributes and methods)\n",
        "- attribute: variable storing information about an object\n",
        "-method: function defining which actions an object can perform\n",
        "\n",
        "\n",
        "What is self?\n",
        "\n",
        "self refers to the instance of the specific class itslef\n",
        "\n",
        "Dog('dami',owner1) and Dog('billy,owner2) are both objects but different becaus they have different data. Self is used to access specific objects attributes and methods from inside the class.\n",
        "\n",
        "What is an instance, what does instantiate means?\n",
        "\n",
        "When we create an obj from a class you are instantiating a class, the obj is an instance of that class. Thus an instance of the dog class is a dog object"
      ],
      "metadata": {
        "id": "SLH2qrdhg92v"
      }
    },
    {
      "cell_type": "code",
      "source": [],
      "metadata": {
        "id": "v2W5EWTTgGEV"
      },
      "execution_count": null,
      "outputs": []
    }
  ]
}